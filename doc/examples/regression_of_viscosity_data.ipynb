{
 "cells": [
  {
   "cell_type": "markdown",
   "metadata": {},
   "source": [
    "# Regression of viscosity data\n",
    "\n",
    "This notebook is a short example on how to use the regression classes available in GlassPy to analyze equilibrium viscosity data collected at different temperatures.\n",
    "\n",
    "This example assumes that GlassPy and all its dependencies are installed in the machine or virtual environment being used."
   ]
  },
  {
   "cell_type": "code",
   "execution_count": 1,
   "metadata": {},
   "outputs": [],
   "source": [
    "%matplotlib inline\n",
    "\n",
    "import numpy as np\n",
    "import pandas as pd\n",
    "from glasspy.viscosity.regression import MYEGA"
   ]
  },
  {
   "cell_type": "markdown",
   "metadata": {},
   "source": [
    "## Data\n",
    "\n",
    "For this simple example, data will be provided as python objects. \n",
    "\n",
    "Variable \"temperature\" has unit of [Kelvin] and variable \"viscosity\" has unit of [Pascal.second].\n",
    "\n",
    "A pandas DataFrame object is defined at the end. To use the regression classes, we need a DataFrame with at least a \"temperature\" and a \"log_viscosity\" column. Any additional columns are stored in the regression Class but are not used during the regression."
   ]
  },
  {
   "cell_type": "code",
   "execution_count": 2,
   "metadata": {},
   "outputs": [],
   "source": [
    "temperature = [1027, 1028, 1029, 1030, 1031, 1032, 1033, 1034, 1035, 1036,\n",
    "               1037, 1038, 1039, 1040, 1040, 1041, 1042, 1042, 1043, 1044,\n",
    "               1045, 1045, 1046, 1047, 1048, 1049, 1049, 1050, 1067, 1067,\n",
    "               1068, 1069, 1070, 1071, 1072, 1072, 1073, 1074, 1075, 1075,\n",
    "               1076, 1077, 1078, 1079, 1080, 1080, 1081, 1082, 1083, 1084,\n",
    "               1085, 1085, 1086, 1087, 1088, 1089, 1090, 1091, 1092, 1093,\n",
    "               1093, 1094, 1095, 1095, 1096, 1097, 1098, 1594, 1614, 1634,\n",
    "               1654, 1673, 1692, 1712, 1730]\n",
    "\n",
    "viscosity = [2.51E10, 2.51E10, 2.00E10, 2.00E10, 1.58E10, 1.58E10, 1.26E10,\n",
    "             1.00E10, 1.00E10, 1.00E10, 7.94E09, 6.31E09, 6.31E09, 6.31E09,\n",
    "             5.01E09, 5.01E09, 3.98E09, 3.98E09, 3.16E09, 3.16E09, 3.16E09,\n",
    "             2.51E09, 2.51E09, 2.51E09, 2.00E09, 2.00E09, 1.58E09, 1.58E09,\n",
    "             3.16E08, 2.51E08, 2.51E08, 2.51E08, 2.00E08, 2.00E08, 2.00E08,\n",
    "             1.58E08, 1.58E08, 1.58E08, 1.58E08, 1.26E08, 1.26E08, 1.26E08,\n",
    "             1.00E08, 1.00E08, 1.00E08, 7.94E07, 7.94E07, 7.94E07, 6.31E07,\n",
    "             6.31E07, 6.31E07, 5.01E07, 5.01E07, 5.01E07, 3.98E07, 3.98E07,\n",
    "             3.98E07, 3.16E07, 3.16E07, 3.16E07, 2.51E07, 2.51E07, 2.51E07,\n",
    "             2.00E07, 2.00E07, 2.00E07, 2.00E07, 2.51E00, 2.00E00, 1.58E00,\n",
    "             1.58E00, 1.26E00, 1.00E00, 7.94E-01, 7.94E-01]\n",
    "\n",
    "log_viscosity = np.log10(viscosity)\n",
    "\n",
    "data = {'temperature':temperature, 'log_viscosity':log_viscosity}\n",
    "data_table = pd.DataFrame(data)"
   ]
  },
  {
   "cell_type": "markdown",
   "metadata": {},
   "source": [
    "## Regression of the MYEGA expression\n",
    "\n",
    "First, we create a regressor object."
   ]
  },
  {
   "cell_type": "code",
   "execution_count": 3,
   "metadata": {},
   "outputs": [],
   "source": [
    "regressor = MYEGA(table=data_table)"
   ]
  },
  {
   "cell_type": "markdown",
   "metadata": {},
   "source": [
    "We can retrieve the original data from the regressor."
   ]
  },
  {
   "cell_type": "code",
   "execution_count": 4,
   "metadata": {},
   "outputs": [
    {
     "name": "stdout",
     "output_type": "stream",
     "text": [
      "    temperature  log_viscosity\n",
      "0          1027      10.399674\n",
      "1          1028      10.399674\n",
      "2          1029      10.301030\n",
      "3          1030      10.301030\n",
      "4          1031      10.198657\n",
      "5          1032      10.198657\n",
      "6          1033      10.100371\n",
      "7          1034      10.000000\n",
      "8          1035      10.000000\n",
      "9          1036      10.000000\n",
      "10         1037       9.899821\n",
      "11         1038       9.800029\n",
      "12         1039       9.800029\n",
      "13         1040       9.800029\n",
      "14         1040       9.699838\n",
      "15         1041       9.699838\n",
      "16         1042       9.599883\n",
      "17         1042       9.599883\n",
      "18         1043       9.499687\n",
      "19         1044       9.499687\n",
      "20         1045       9.499687\n",
      "21         1045       9.399674\n",
      "22         1046       9.399674\n",
      "23         1047       9.399674\n",
      "24         1048       9.301030\n",
      "25         1049       9.301030\n",
      "26         1049       9.198657\n",
      "27         1050       9.198657\n",
      "28         1067       8.499687\n",
      "29         1067       8.399674\n",
      "..          ...            ...\n",
      "45         1080       7.899821\n",
      "46         1081       7.899821\n",
      "47         1082       7.899821\n",
      "48         1083       7.800029\n",
      "49         1084       7.800029\n",
      "50         1085       7.800029\n",
      "51         1085       7.699838\n",
      "52         1086       7.699838\n",
      "53         1087       7.699838\n",
      "54         1088       7.599883\n",
      "55         1089       7.599883\n",
      "56         1090       7.599883\n",
      "57         1091       7.499687\n",
      "58         1092       7.499687\n",
      "59         1093       7.499687\n",
      "60         1093       7.399674\n",
      "61         1094       7.399674\n",
      "62         1095       7.399674\n",
      "63         1095       7.301030\n",
      "64         1096       7.301030\n",
      "65         1097       7.301030\n",
      "66         1098       7.301030\n",
      "67         1594       0.399674\n",
      "68         1614       0.301030\n",
      "69         1634       0.198657\n",
      "70         1654       0.198657\n",
      "71         1673       0.100371\n",
      "72         1692       0.000000\n",
      "73         1712      -0.100179\n",
      "74         1730      -0.100179\n",
      "\n",
      "[75 rows x 2 columns]\n"
     ]
    }
   ],
   "source": [
    "print(regressor.table)"
   ]
  },
  {
   "cell_type": "markdown",
   "metadata": {},
   "source": [
    "The default behavior of the class initiation is to fit the data. We can check the results."
   ]
  },
  {
   "cell_type": "code",
   "execution_count": 5,
   "metadata": {},
   "outputs": [
    {
     "name": "stdout",
     "output_type": "stream",
     "text": [
      "[[Model]]\n",
      "    Model(MYEGA)\n",
      "[[Fit Statistics]]\n",
      "    # fitting method   = leastsq\n",
      "    # function evals   = 4\n",
      "    # data points      = 75\n",
      "    # variables        = 3\n",
      "    chi-square         = 0.11193389\n",
      "    reduced chi-square = 0.00155464\n",
      "    Akaike info crit   = -482.050121\n",
      "    Bayesian info crit = -475.097657\n",
      "[[Variables]]\n",
      "    log_eta_inf: -1.80546885 +/- 0.03888761 (2.15%) (init = -1.805469)\n",
      "    T12:          1000.14901 +/- 0.30299789 (0.03%) (init = 1000.149)\n",
      "    m:            64.5345707 +/- 0.34154230 (0.53%) (init = 64.53457)\n",
      "    K:            350.164629 +/- 13.4761081 (3.85%) == '(12-log_eta_inf)*T12*exp(1-m/(12-log_eta_inf))'\n",
      "    C:            3675.11320 +/- 37.1778713 (1.01%) == 'T12*(m/(12-log_eta_inf)-1)'\n",
      "[[Correlations]] (unreported correlations are < 0.100)\n",
      "    C(T12, m)           =  0.938\n",
      "    C(log_eta_inf, m)   =  0.802\n",
      "    C(log_eta_inf, T12) =  0.710\n",
      "\n"
     ]
    }
   ],
   "source": [
    "print(regressor.fitresult.fit_report())"
   ]
  },
  {
   "cell_type": "markdown",
   "metadata": {},
   "source": [
    "We can plot the data with the regression."
   ]
  },
  {
   "cell_type": "code",
   "execution_count": 6,
   "metadata": {},
   "outputs": [
    {
     "data": {
      "text/plain": [
       "(<Figure size 432x432 with 2 Axes>, GridSpec(2, 1, height_ratios=[1, 4]))"
      ]
     },
     "execution_count": 6,
     "metadata": {},
     "output_type": "execute_result"
    },
    {
     "data": {
      "image/png": "[encoded data removed]",
      "text/plain": [
       "<Figure size 432x432 with 2 Axes>"
      ]
     },
     "metadata": {
      "needs_background": "light"
     },
     "output_type": "display_data"
    }
   ],
   "source": [
    "regressor.fitresult.plot(xlabel='Temperature', ylabel='Log of Viscosity', numpoints=100)"
   ]
  }
 ],
 "metadata": {
  "kernelspec": {
   "display_name": "py1",
   "language": "python",
   "name": "py1"
  },
  "language_info": {
   "codemirror_mode": {
    "name": "ipython",
    "version": 3
   },
   "file_extension": ".py",
   "mimetype": "text/x-python",
   "name": "python",
   "nbconvert_exporter": "python",
   "pygments_lexer": "ipython3",
   "version": "3.7.4"
  }
 },
 "nbformat": 4,
 "nbformat_minor": 4
}

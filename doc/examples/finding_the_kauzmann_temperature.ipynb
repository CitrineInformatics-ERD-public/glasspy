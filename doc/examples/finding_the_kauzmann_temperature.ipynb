{
 "cells": [
  {
   "cell_type": "markdown",
   "metadata": {},
   "source": [
    "# Finding the Kauzmann temperature\n",
    "\n",
    "This notebook is a short example on how to use the thermodynamics module to find the Kauzmann temperature. The Kauzmann temperature is the temperature were the entropy of the stable crystalline phase is equal to the entropy of the liquid phase. In other words, it is the temperature were the excess entropy is zero.\n",
    "\n",
    "This example assumes that GlassPy and all its dependencies are installed in the machine or virtual environment being used."
   ]
  },
  {
   "cell_type": "code",
   "execution_count": 12,
   "metadata": {},
   "outputs": [],
   "source": [
    "import numpy as np\n",
    "import pandas as pd\n",
    "\n",
    "from glasspy.thermodynamics.heatcapacity import heatCapacityFunFromTuple\n",
    "from glasspy.thermodynamics.entropy import excessEntropyFun, KauzmannTemperature"
   ]
  },
  {
   "cell_type": "markdown",
   "metadata": {},
   "source": [
    "## Case study: boron oxide (B<sub>2</sub>O<sub>3</sub>)\n",
    "\n",
    "To compute the Kauzmann temperature we will need:\n",
    "* The heat capacity at constant pressure (C<sub>p</sub>) of the stable crystalline phase\n",
    "* The temperature and enthalpy of any phase transformation that occurs in the crystalline state\n",
    "* The heat capacity at constant pressure (C<sub>p</sub>) of the liquid phase\n",
    "* The melting temperature and melting enthalpy\n",
    "\n",
    "The function \"KauzmannTemperature\" expects that the user provides the python functions for the C<sub>p</sub> of the crystal and the liquid. These are functions that have one argument for temperature (in Kelvin), and returns the value for C<sub>p</sub>. The user is free to define these functions the way that best suits them.\n",
    "\n",
    "In this example we will make use of the \"heatCapacityFunFromTuple\" function provided by the thermodynamics.heatcapacity module in GlassPy. Please refer to the docstring of this function for more information.\n",
    "\n",
    "Let's see it in action!"
   ]
  },
  {
   "cell_type": "code",
   "execution_count": 13,
   "metadata": {},
   "outputs": [
    {
     "name": "stdout",
     "output_type": "stream",
     "text": [
      "Temperature\tCp_liquid\n",
      "1\t\tnan\n",
      "264\t\tnan\n",
      "527\t\tnan\n",
      "790\t\t128.06\n",
      "1053\t\t127.98\n",
      "1317\t\t127.90\n",
      "1580\t\t127.82\n",
      "1843\t\t127.75\n",
      "2106\t\t127.67\n",
      "2369\t\t127.59\n",
      "2632\t\t127.51\n",
      "2895\t\t127.43\n",
      "3158\t\t127.35\n",
      "3421\t\tnan\n",
      "3684\t\tnan\n",
      "3948\t\tnan\n",
      "4211\t\tnan\n",
      "4474\t\tnan\n",
      "4737\t\tnan\n",
      "5000\t\tnan\n"
     ]
    }
   ],
   "source": [
    "Cp_tuple_B2O3_liquid = (\n",
    "    (0, None),\n",
    "    (723, {\n",
    "        'T0': 128.3,\n",
    "        'T1': -3.01E-4,\n",
    "    }),\n",
    "    (3200, None),\n",
    ")\n",
    "\n",
    "Cp_liquid_fun = heatCapacityFunFromTuple(Cp_tuple_B2O3_liquid)\n",
    "\n",
    "temperature_range = np.linspace(1, 5000, 20)\n",
    "Cp_calc = Cp_liquid_fun(temperature_range)\n",
    "\n",
    "print('Temperature\\tCp_liquid')\n",
    "for T, Cp in zip(temperature_range, Cp_calc):\n",
    "    print(f'{T:.0f}\\t\\t{Cp:.2f}')"
   ]
  },
  {
   "cell_type": "markdown",
   "metadata": {},
   "source": [
    "As you can see, the function \"heatCapacityFunFromTuple\" received a tuple of tuples as an argument and returned a function called \"Cp_liquid_fun\". This function was then tested and only returned finite numbers in a restricted temperature range.\n",
    "\n",
    "This happens because the default behavior of the \"heatCapacityFunFromTuple\" is to generate a function that do not extrapolate into regions were we have no Cp information. This can be easily seen from the tuple of tuples \"Cp_tuple_B2O3_liquid\" that we used to feed the function. See, this tuple\n",
    "\n",
    "    Cp_tuple_B2O3_liquid = (\n",
    "        (0, None),\n",
    "        (723, {\n",
    "            'T0': 128.3,\n",
    "            'T1': -3.01E-4,\n",
    "        }),\n",
    "        (3200, None),\n",
    "    )\n",
    "\n",
    "is telling the function that from 0 to 723 Kelvin there is no Cp function, as well as from 3200 upwards. This can be checked by the first item in the \"subtuples\" inside. You can see from the previous example that this is strictly followed when using the generated function.\n",
    "\n",
    "Now observe this subtuple:\n",
    "\n",
    "    (723, {\n",
    "        'T0': 128.3,\n",
    "        'T1': -3.01E-4,\n",
    "    }),\n",
    "    \n",
    "The second item in this subtuple is a dictionary that indicates the coefficients of the Cp function that is valid from the temperature 723 onwards (in this case, up to the temperature of the next subtuple, that is 3200). In this case we have only two coefficients: 'T0' and 'T1'. The resulting function that will be build with this information is:\n",
    "\n",
    "\n",
    "    def function(T):\n",
    "        return -3.01e-4*T + 128.3\n",
    "\n",
    "You see, 'T0' is the temperature-independent term (equivalent to multiplying the temperature to the power of zero), and 'T1' is the coefficient that multiplies the temperature to the power of 1. The valid coefficient names are:\n",
    "\n",
    "    'T0': coefficient independent of temperature\n",
    "    'T1': coefficient that multiplies T\n",
    "    'T2': coefficient that multiplies T**2\n",
    "    'T3': coefficient that multiplies T**3\n",
    "    'T4': coefficient that multiplies T**4\n",
    "    '_T1': coefficient that multiplies T**(-1)\n",
    "    '_T2': coefficient that multiplies T**(-2)\n",
    "    '_T3': coefficient that multiplies T**(-3)\n",
    "    '_T1_2': coefficient that multiplies T**(-1/2)\n",
    "\n",
    "We will see some of these coefficients moving forward in this example.\n",
    "\n",
    "If we want to extrapolate the Cp values outside the regions were we have data we can pass the argument 'extrapolate_borders=True'. Let's see what happens:"
   ]
  },
  {
   "cell_type": "code",
   "execution_count": 14,
   "metadata": {},
   "outputs": [
    {
     "name": "stdout",
     "output_type": "stream",
     "text": [
      "Temperature\tCp_liquid\n",
      "1\t\t128.30\n",
      "264\t\t128.22\n",
      "527\t\t128.14\n",
      "790\t\t128.06\n",
      "1053\t\t127.98\n",
      "1317\t\t127.90\n",
      "1580\t\t127.82\n",
      "1843\t\t127.75\n",
      "2106\t\t127.67\n",
      "2369\t\t127.59\n",
      "2632\t\t127.51\n",
      "2895\t\t127.43\n",
      "3158\t\t127.35\n",
      "3421\t\t127.27\n",
      "3684\t\t127.19\n",
      "3948\t\t127.11\n",
      "4211\t\t127.03\n",
      "4474\t\t126.95\n",
      "4737\t\t126.87\n",
      "5000\t\t126.80\n"
     ]
    }
   ],
   "source": [
    "Cp_tuple_B2O3_liquid = (\n",
    "    (0, None),\n",
    "    (723, {\n",
    "        'T0': 128.3,\n",
    "        'T1': -3.01E-4,\n",
    "    }),\n",
    "    (3200, None),\n",
    ")\n",
    "\n",
    "Cp_liquid_fun = heatCapacityFunFromTuple(Cp_tuple_B2O3_liquid, extrapolate_borders=True)\n",
    "\n",
    "temperature_range = np.linspace(1, 5000, 20)\n",
    "Cp_calc = Cp_liquid_fun(temperature_range)\n",
    "\n",
    "print('Temperature\\tCp_liquid')\n",
    "for T, Cp in zip(temperature_range, Cp_calc):\n",
    "    print(f'{T:.0f}\\t\\t{Cp:.2f}')"
   ]
  },
  {
   "cell_type": "markdown",
   "metadata": {},
   "source": [
    "Now the Cp can be computed in all temperature ranges. This may be dangerous! In this case, for example, the Cp of the liquid does not approach zero as the temperature approaches the absolute zero. \n",
    "\n",
    "Next, we do tha same for the crystal heat capacity:"
   ]
  },
  {
   "cell_type": "code",
   "execution_count": 15,
   "metadata": {},
   "outputs": [
    {
     "name": "stdout",
     "output_type": "stream",
     "text": [
      "Temperature\tCp_crystal\n",
      "1\t\t0.00\n",
      "54\t\t7.15\n",
      "106\t\t22.51\n",
      "159\t\t35.09\n",
      "211\t\t46.16\n",
      "264\t\t56.37\n",
      "316\t\t66.27\n",
      "369\t\t74.52\n",
      "422\t\t81.07\n",
      "474\t\t86.63\n",
      "527\t\t91.58\n",
      "579\t\t96.12\n",
      "632\t\t100.39\n",
      "685\t\t104.47\n",
      "737\t\tnan\n",
      "790\t\tnan\n",
      "842\t\tnan\n",
      "895\t\tnan\n",
      "947\t\tnan\n",
      "1000\t\tnan\n"
     ]
    }
   ],
   "source": [
    "Cp_tuple_B2O3_crystal = (\n",
    "    (0, {\n",
    "        'T2': -4.73319e-05,\n",
    "        'T3': 5.62398e-05,\n",
    "    }),\n",
    "    (27.64, {\n",
    "        'T0': -10.10848,\n",
    "        'T1': 0.26871,\n",
    "        'T2': 0.00106,\n",
    "        'T3': -6.65459e-06,\n",
    "        '_T2': 2416.58355,\n",
    "    }),\n",
    "    (75.78, {\n",
    "        'T0': -5.54677,\n",
    "        'T1': 0.31337,\n",
    "        'T2': -0.000411339,\n",
    "        'T3': 4.37884e-07,\n",
    "        '_T2': -12369.67768,\n",
    "    }),\n",
    "    (300, {\n",
    "        'T0': 64.157456,\n",
    "        'T1': 0.064596776,\n",
    "        '_T2': -1836357.6,\n",
    "        'T2': 0.000000033472,\n",
    "    }),\n",
    "    (723, None),\n",
    ")\n",
    "\n",
    "Cp_tuple_B2O3_liquid = (\n",
    "    (0, None),\n",
    "    (723, {\n",
    "        'T0': 128.3,\n",
    "        'T1': -3.01E-4,\n",
    "    }),\n",
    "    (3200, None),\n",
    ")\n",
    "\n",
    "Cp_crystal_fun = heatCapacityFunFromTuple(Cp_tuple_B2O3_crystal)\n",
    "\n",
    "temperature_range = np.linspace(1, 1000, 20)\n",
    "Cp_calc = Cp_crystal_fun(temperature_range)\n",
    "\n",
    "print('Temperature\\tCp_crystal')\n",
    "for T, Cp in zip(temperature_range, Cp_calc):\n",
    "    print(f'{T:.0f}\\t\\t{Cp:.2f}')"
   ]
  },
  {
   "cell_type": "markdown",
   "metadata": {},
   "source": [
    "We only need to define the melting point (Tm) and the enthalpy of melting (delta_Hm). Fortunately, boron oxide does not have a crystalline phase transition, so the variable \"H_transformations\" is set no None"
   ]
  },
  {
   "cell_type": "code",
   "execution_count": 16,
   "metadata": {},
   "outputs": [],
   "source": [
    "Cp_crystal_fun = heatCapacityFunFromTuple(Cp_tuple_B2O3_crystal)\n",
    "\n",
    "Tm = 723\n",
    "delta_Hm = 24070.0\n",
    "H_transformations = None"
   ]
  },
  {
   "cell_type": "markdown",
   "metadata": {},
   "source": [
    "Now we can compute the Kauzmann temperature."
   ]
  },
  {
   "cell_type": "code",
   "execution_count": 17,
   "metadata": {},
   "outputs": [
    {
     "name": "stdout",
     "output_type": "stream",
     "text": [
      "The Kauzmann temperature of B2O3 is 320.20 Kelvin.\n"
     ]
    }
   ],
   "source": [
    "TK = KauzmannTemperature(Cp_crystal_fun, \n",
    "                         Cp_liquid_fun, \n",
    "                         Tm, \n",
    "                         delta_Hm,\n",
    "                         H_transformations)\n",
    "\n",
    "print(f'The Kauzmann temperature of B2O3 is {TK:.2f} Kelvin.')"
   ]
  },
  {
   "cell_type": "markdown",
   "metadata": {},
   "source": [
    "## Case study: silica (SiO<sub>2</sub>) --- Phase tranformations\n",
    "\n",
    "The procedure for silica is the same as shown for boron oxide. However silica differs from boron oxide due to the presence of crystalline phase transformations. Let's define everything else first."
   ]
  },
  {
   "cell_type": "code",
   "execution_count": 18,
   "metadata": {},
   "outputs": [],
   "source": [
    "Cp_tuple_SiO2_crystal = (\n",
    "    (0, {\n",
    "        'T2': 0.00308,\n",
    "        'T3': -1.5072E-5\n",
    "    }, 'Low quartz'),\n",
    "    (100, {\n",
    "        'T0': -7.55755,\n",
    "        'T1': 0.26927,\n",
    "        'T2': -3.9187E-4,\n",
    "        'T3': 2.49689E-7\n",
    "    }, 'Low quartz'),\n",
    "    (298.15, {\n",
    "        'T0': 58.082288,\n",
    "        'T1': -0.000033472,\n",
    "        '_T2': -1425907.2,\n",
    "        'T2': 0.00002822108\n",
    "    }, 'Low quartz'),\n",
    "    (847, {\n",
    "        'T0': 58.873064,\n",
    "        'T1': 0.010070888,\n",
    "        '_T2': 11715.2\n",
    "    }, 'High quartz'),\n",
    "    (1079, {\n",
    "        'T0': 72.734656,\n",
    "        'T1': 0.001330512,\n",
    "        '_T2': -4128771.2,\n",
    "        'T2': -0.000000012552\n",
    "    }, 'High cristobalite'),\n",
    "    (1996, None),\n",
    ")\n",
    "\n",
    "Cp_tuple_SiO2_liquid = (\n",
    "    (0, None),\n",
    "    (1480, {\n",
    "        'T0': 81.373,\n",
    "    }),\n",
    "    (2000, None),\n",
    ")\n",
    "\n",
    "Cp_crystal_fun = heatCapacityFunFromTuple(Cp_tuple_SiO2_crystal)\n",
    "Cp_liquid_fun = heatCapacityFunFromTuple(Cp_tuple_SiO2_liquid, extrapolate_borders=True)\n",
    "Tm = 1999.0\n",
    "delta_Hm = 8920.0"
   ]
  },
  {
   "cell_type": "markdown",
   "metadata": {},
   "source": [
    "Silica has the transformation from low quarts to high quartz at 847 Kelvin, with an enthalpy of 728 J/mol during heating; and the transformation from high quartz to high cristobalite at 1079 Kelvin, with an enthalpy of 1998.8 J/mol during heating.\n",
    "\n",
    "This information must be presented to the \"KauzmannTemperature\" function as a dictonary where the keys are the temperatures of transformation and the values of each key is the enthalpy of transformation. For silica this is the expected heat of transformation dictionary:"
   ]
  },
  {
   "cell_type": "code",
   "execution_count": 19,
   "metadata": {},
   "outputs": [],
   "source": [
    "H_of_transformations_SiO2 = {\n",
    "    847: 728.0,  # from low quartz to high quartz (J/mol)\n",
    "    1079: 1995.8,  # from high quartz to high cristobalite (J/mol)\n",
    "}"
   ]
  },
  {
   "cell_type": "markdown",
   "metadata": {},
   "source": [
    "Finally, we can compute the Kauzmann temperature!"
   ]
  },
  {
   "cell_type": "code",
   "execution_count": 20,
   "metadata": {},
   "outputs": [
    {
     "name": "stdout",
     "output_type": "stream",
     "text": [
      "The Kauzmann temperature of SiO2 is nan Kelvin.\n"
     ]
    }
   ],
   "source": [
    "TK = KauzmannTemperature(Cp_crystal_fun, \n",
    "                         Cp_liquid_fun, \n",
    "                         Tm, \n",
    "                         delta_Hm,\n",
    "                         H_of_transformations_SiO2)\n",
    "\n",
    "print(f'The Kauzmann temperature of SiO2 is {TK:.2f} Kelvin.')"
   ]
  },
  {
   "cell_type": "markdown",
   "metadata": {},
   "source": [
    "... \n",
    "\n",
    "What happened? It seems that silica does not have a Kauzmann temperature. It is possible that some materials will not have a Kauzmann temperature, but another explanation is that we are having problems with the domain of the heat capacity functions. If you look at the tuple \"Cp_tuple_SiO2_crystal\" you will see that the heat capacity is only defined up to 1996 Kelvin. However, the melting point of silica was defined as 1999 K, and we need to have a well defined heat capacity between the melting point and the eventual Kauzmann tempetature, otherwise no Kauzmann temperature will be found.\n",
    "\n",
    "This can be fixed by using the \"extrapolate_borders=True\" argument."
   ]
  },
  {
   "cell_type": "code",
   "execution_count": 21,
   "metadata": {},
   "outputs": [],
   "source": [
    "Cp_crystal_fun = heatCapacityFunFromTuple(Cp_tuple_SiO2_crystal, extrapolate_borders=True)"
   ]
  },
  {
   "cell_type": "markdown",
   "metadata": {},
   "source": [
    "And now everything should work fine."
   ]
  },
  {
   "cell_type": "code",
   "execution_count": 22,
   "metadata": {},
   "outputs": [
    {
     "name": "stdout",
     "output_type": "stream",
     "text": [
      "The Kauzmann temperature of SiO2 is 1178.12 Kelvin.\n"
     ]
    }
   ],
   "source": [
    "TK = KauzmannTemperature(Cp_crystal_fun, \n",
    "                         Cp_liquid_fun, \n",
    "                         Tm, \n",
    "                         delta_Hm,\n",
    "                         H_of_transformations_SiO2)\n",
    "\n",
    "print(f'The Kauzmann temperature of SiO2 is {TK:.2f} Kelvin.')"
   ]
  }
 ],
 "metadata": {
  "kernelspec": {
   "display_name": "py1",
   "language": "python",
   "name": "py1"
  },
  "language_info": {
   "codemirror_mode": {
    "name": "ipython",
    "version": 3
   },
   "file_extension": ".py",
   "mimetype": "text/x-python",
   "name": "python",
   "nbconvert_exporter": "python",
   "pygments_lexer": "ipython3",
   "version": "3.7.4"
  }
 },
 "nbformat": 4,
 "nbformat_minor": 4
}

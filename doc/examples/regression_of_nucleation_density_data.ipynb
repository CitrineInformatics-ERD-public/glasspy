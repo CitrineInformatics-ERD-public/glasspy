{
 "cells": [
  {
   "cell_type": "markdown",
   "metadata": {},
   "source": [
    "# Regression of nucleation density data\n",
    "\n",
    "This notebook is a short example on how to use the regression classes available in GlassPy to analyze nucleation density data collected at different times.\n",
    "\n",
    "This example assumes that GlassPy and all its dependencies are installed in the machine or virtual environment being used."
   ]
  },
  {
   "cell_type": "code",
   "execution_count": 1,
   "metadata": {},
   "outputs": [],
   "source": [
    "%matplotlib inline\n",
    "\n",
    "import numpy as np\n",
    "import pandas as pd\n",
    "from glasspy.nucleation.regression import Wakeshima, Kashchiev"
   ]
  },
  {
   "cell_type": "markdown",
   "metadata": {},
   "source": [
    "## Data\n",
    "\n",
    "For this simple example, data will be provided as python objects. \n",
    "\n",
    "Variable \"time\" has unit of [second] and variable density has unit of [meter]<sup>-3</sup>.\n",
    "\n",
    "A pandas DataFrame object is defined at the end. To use the regression classes, we need a DataFrame with at least a \"time\" and a \"density\" column. If the \"ID\" column is provided, then each unique ID is considered separately in the analysis. Any additional columns are stored in the regression Class but are not used during the regression."
   ]
  },
  {
   "cell_type": "code",
   "execution_count": 2,
   "metadata": {},
   "outputs": [],
   "source": [
    "time = [52351, 55991, 69294, 86406, 89348, 100359, 110782, 135310, 139662,\n",
    "        146242, 147392, 147443, 151759, 153989, 161584, 168835, 172506, 176163,\n",
    "        180516, 183432, 183496, 220938, 230420, 241779, 247205, 260518, 266133,\n",
    "        268181, 269727, 271700, 284141, 316821, 323361, 341955]\n",
    "\n",
    "density = [40830000000, 143200000000, 161400000000, 324800000000, 621700000000,\n",
    "           581000000000, 896500000000, 2158000000000, 1572000000000,\n",
    "           2693000000000, 2433000000000, 2950000000000, 2987000000000,\n",
    "           3738000000000, 3234000000000, 3225000000000, 4662000000000,\n",
    "           3991000000000, 6373000000000, 4154000000000, 4799000000000,\n",
    "           10780000000000, 11520000000000, 13400000000000, 14750000000000,\n",
    "           16560000000000, 17840000000000, 18720000000000, 20480000000000,\n",
    "           18630000000000, 23520000000000, 28900000000000, 31600000000000,\n",
    "           37260000000000]\n",
    "\n",
    "data = {'time':time, 'density':density}\n",
    "data_table = pd.DataFrame(data)"
   ]
  },
  {
   "cell_type": "markdown",
   "metadata": {},
   "source": [
    "## Regression of the Wakeshima expression\n",
    "\n",
    "First, we create a regressor object."
   ]
  },
  {
   "cell_type": "code",
   "execution_count": 3,
   "metadata": {},
   "outputs": [],
   "source": [
    "regressor = Wakeshima(table=data_table)"
   ]
  },
  {
   "cell_type": "markdown",
   "metadata": {},
   "source": [
    "We can retrieve the original data from the regressor. Note that, since we did not specify an ID for the dataset, the ID that is returned is False."
   ]
  },
  {
   "cell_type": "code",
   "execution_count": 4,
   "metadata": {},
   "outputs": [
    {
     "name": "stdout",
     "output_type": "stream",
     "text": [
      "   The ID is  False\n",
      "\n",
      "   time\tdensity\n",
      "   52351 40830000000\n",
      "   55991 143200000000\n",
      "   69294 161400000000\n",
      "   86406 324800000000\n",
      "   89348 621700000000\n",
      "   100359 581000000000\n",
      "   110782 896500000000\n",
      "   135310 2158000000000\n",
      "   139662 1572000000000\n",
      "   146242 2693000000000\n",
      "   147392 2433000000000\n",
      "   147443 2950000000000\n",
      "   151759 2987000000000\n",
      "   153989 3738000000000\n",
      "   161584 3234000000000\n",
      "   168835 3225000000000\n",
      "   172506 4662000000000\n",
      "   176163 3991000000000\n",
      "   180516 6373000000000\n",
      "   183432 4154000000000\n",
      "   183496 4799000000000\n",
      "   220938 10780000000000\n",
      "   230420 11520000000000\n",
      "   241779 13400000000000\n",
      "   247205 14750000000000\n",
      "   260518 16560000000000\n",
      "   266133 17840000000000\n",
      "   268181 18720000000000\n",
      "   269727 20480000000000\n",
      "   271700 18630000000000\n",
      "   284141 23520000000000\n",
      "   316821 28900000000000\n",
      "   323361 31600000000000\n",
      "   341955 37260000000000\n"
     ]
    }
   ],
   "source": [
    "gen = regressor.dataGenerator()\n",
    "ID, time, density, table_slice = next(gen)\n",
    "\n",
    "print('   The ID is ', ID)\n",
    "print()\n",
    "print('   time\\tdensity')\n",
    "\n",
    "for d in zip(time, density):\n",
    "    print('  ', *d)"
   ]
  },
  {
   "cell_type": "markdown",
   "metadata": {},
   "source": [
    "With the regressor object, we can guess the steady-state nucleation rate and the induction time for nucleation."
   ]
  },
  {
   "cell_type": "code",
   "execution_count": 5,
   "metadata": {},
   "outputs": [
    {
     "name": "stdout",
     "output_type": "stream",
     "text": [
      "   The guess for the steady-state nucleation rate is 1.15e+08, \n",
      "   while the guess for the induction time is 1.39e+05\n"
     ]
    }
   ],
   "source": [
    "steady_state_rate_guess, induction_time_guess = regressor.guess(time, density)\n",
    "\n",
    "print(f'   The guess for the steady-state nucleation rate is {steady_state_rate_guess:.3}, \\n   while the guess for the induction time is {induction_time_guess:.3}')"
   ]
  },
  {
   "cell_type": "markdown",
   "metadata": {},
   "source": [
    "We can then fit the model to the data and check the adjusted parameters."
   ]
  },
  {
   "cell_type": "code",
   "execution_count": 6,
   "metadata": {},
   "outputs": [
    {
     "name": "stdout",
     "output_type": "stream",
     "text": [
      "[[Model]]\n",
      "    Model(wakeshima)\n",
      "[[Fit Statistics]]\n",
      "    # fitting method   = leastsq\n",
      "    # function evals   = 63\n",
      "    # data points      = 34\n",
      "    # variables        = 2\n",
      "    chi-square         = 2.7186e+26\n",
      "    reduced chi-square = 8.4955e+24\n",
      "    Akaike info crit   = 1953.59248\n",
      "    Bayesian info crit = 1956.64520\n",
      "[[Variables]]\n",
      "    steady_state_rate:   1.2556e+12 +/- 1.4456e+12 (115.13%) == '10**log_rate'\n",
      "    time_lag:            2.4126e+09 +/- 2.7813e+09 (115.28%) == '10**log_induction_time'\n",
      "    log_rate:            12.0988561 +/- 0.49999852 (4.13%) (init = 8.060791)\n",
      "    log_induction_time:  9.38249037 +/- 0.50065891 (5.34%) (init = 5.142793)\n",
      "    induction_time:      2.4126e+09 +/- 2.7813e+09 (115.28%) == '10**log_induction_time'\n",
      "[[Correlations]] (unreported correlations are < 0.100)\n",
      "    C(log_rate, log_induction_time) =  0.999\n",
      "\n"
     ]
    }
   ],
   "source": [
    "gen = regressor.dataGenerator()\n",
    "ID, time, density, table_slice = next(gen)\n",
    "fitresult, model = regressor.fit(time, density)\n",
    "\n",
    "print(fitresult.fit_report())"
   ]
  },
  {
   "cell_type": "markdown",
   "metadata": {},
   "source": [
    "Finally, we can build a plot!"
   ]
  },
  {
   "cell_type": "code",
   "execution_count": 7,
   "metadata": {},
   "outputs": [
    {
     "data": {
      "text/plain": [
       "<matplotlib.axes._subplots.AxesSubplot at 0x7f8cbd6d7a90>"
      ]
     },
     "execution_count": 7,
     "metadata": {},
     "output_type": "execute_result"
    },
    {
     "data": {
      "image/png": "[encoded data removed]",
      "text/plain": [
       "<Figure size 432x288 with 1 Axes>"
      ]
     },
     "metadata": {
      "needs_background": "light"
     },
     "output_type": "display_data"
    }
   ],
   "source": [
    "fitresult.plot_fit(ylabel='Density', xlabel='Time')"
   ]
  },
  {
   "cell_type": "markdown",
   "metadata": {},
   "source": [
    "We can also check the residuals."
   ]
  },
  {
   "cell_type": "code",
   "execution_count": 8,
   "metadata": {},
   "outputs": [
    {
     "data": {
      "text/plain": [
       "<matplotlib.axes._subplots.AxesSubplot at 0x7f8d10d8c2d0>"
      ]
     },
     "execution_count": 8,
     "metadata": {},
     "output_type": "execute_result"
    },
    {
     "data": {
      "image/png": "[encoded data removed]",
      "text/plain": [
       "<Figure size 432x288 with 1 Axes>"
      ]
     },
     "metadata": {
      "needs_background": "light"
     },
     "output_type": "display_data"
    }
   ],
   "source": [
    "fitresult.plot_residuals()"
   ]
  },
  {
   "cell_type": "markdown",
   "metadata": {},
   "source": [
    "The Wakeshima model does not seem to be a good model for this dataset. Let's try the Kashchiev equation!\n",
    "\n",
    "## Regression of the Kashchiev expression\n",
    "\n",
    "The procedure is similar to that used for the Wakeshima equation. Here we have two additional options\n",
    " * How many summation terms to use (summation_ub);\n",
    " * If we want to consider the time-shift or not (use_time_shift). \n",
    " Let's try using 100 summation terms and not considering the time-shift first."
   ]
  },
  {
   "cell_type": "code",
   "execution_count": 9,
   "metadata": {},
   "outputs": [
    {
     "name": "stdout",
     "output_type": "stream",
     "text": [
      "[[Model]]\n",
      "    Model(kashchiev)\n",
      "[[Fit Statistics]]\n",
      "    # fitting method   = leastsq\n",
      "    # function evals   = 20\n",
      "    # data points      = 34\n",
      "    # variables        = 2\n",
      "    chi-square         = 1.5476e+25\n",
      "    reduced chi-square = 4.8362e+23\n",
      "    Akaike info crit   = 1856.14891\n",
      "    Bayesian info crit = 1859.20163\n",
      "[[Variables]]\n",
      "    steady_state_rate:  3.9756e+08 +/- 20785480.7 (5.23%) == '10**log_rate'\n",
      "    time_lag:           190851.780 +/- 5523.76162 (2.89%) == '10**log_time_lag'\n",
      "    summation_ub:       100 (fixed)\n",
      "    time_shift:         0 (fixed)\n",
      "    log_rate:           8.59939969 +/- 0.02270621 (0.26%) (init = 8.060791)\n",
      "    log_time_lag:       5.28069622 +/- 0.01256965 (0.24%) (init = 4.926645)\n",
      "    induction_time:     313938.595 +/- 0.00000000 (0.00%) == 'time_lag*pi**2/6 + time_shift'\n",
      "[[Correlations]] (unreported correlations are < 0.100)\n",
      "    C(log_rate, log_time_lag) =  0.986\n",
      "\n"
     ]
    },
    {
     "name": "stderr",
     "output_type": "stream",
     "text": [
      "/data/Science/Venv/py1/lib/python3.7/site-packages/lmfit/model.py:595: UserWarning: unknown parameter hint 'brute_step' for param 'log_rate'\n",
      "  warnings.warn(self._invalid_hint % (key, name))\n",
      "/data/Science/Venv/py1/lib/python3.7/site-packages/lmfit/model.py:595: UserWarning: unknown parameter hint 'brute_step' for param 'log_time_lag'\n",
      "  warnings.warn(self._invalid_hint % (key, name))\n"
     ]
    }
   ],
   "source": [
    "regressor = Kashchiev(table=data_table, summation_ub=100, use_time_shift=False)\n",
    "\n",
    "gen = regressor.dataGenerator()\n",
    "ID, time, density, table_slice = next(gen)\n",
    "fitresult, model = regressor.fit(time, density)\n",
    "\n",
    "print(fitresult.fit_report())"
   ]
  },
  {
   "cell_type": "code",
   "execution_count": 10,
   "metadata": {},
   "outputs": [
    {
     "data": {
      "text/plain": [
       "<matplotlib.axes._subplots.AxesSubplot at 0x7f8cbd6c4a10>"
      ]
     },
     "execution_count": 10,
     "metadata": {},
     "output_type": "execute_result"
    },
    {
     "data": {
      "image/png": "[encoded data removed]",
      "text/plain": [
       "<Figure size 432x288 with 1 Axes>"
      ]
     },
     "metadata": {
      "needs_background": "light"
     },
     "output_type": "display_data"
    }
   ],
   "source": [
    "fitresult.plot_fit(ylabel='Density', xlabel='Time')"
   ]
  },
  {
   "cell_type": "code",
   "execution_count": 11,
   "metadata": {},
   "outputs": [
    {
     "data": {
      "text/plain": [
       "<matplotlib.axes._subplots.AxesSubplot at 0x7f8cbb02ec50>"
      ]
     },
     "execution_count": 11,
     "metadata": {},
     "output_type": "execute_result"
    },
    {
     "data": {
      "image/png": "[encoded data removed]",
      "text/plain": [
       "<Figure size 432x288 with 1 Axes>"
      ]
     },
     "metadata": {
      "needs_background": "light"
     },
     "output_type": "display_data"
    }
   ],
   "source": [
    "fitresult.plot_residuals()"
   ]
  },
  {
   "cell_type": "markdown",
   "metadata": {},
   "source": [
    "Much better than our first result!!! Now let's try and check what happens if we increase the number of summation terms."
   ]
  },
  {
   "cell_type": "code",
   "execution_count": 12,
   "metadata": {},
   "outputs": [
    {
     "name": "stdout",
     "output_type": "stream",
     "text": [
      "[[Model]]\n",
      "    Model(kashchiev)\n",
      "[[Fit Statistics]]\n",
      "    # fitting method   = leastsq\n",
      "    # function evals   = 20\n",
      "    # data points      = 34\n",
      "    # variables        = 2\n",
      "    chi-square         = 1.5476e+25\n",
      "    reduced chi-square = 4.8362e+23\n",
      "    Akaike info crit   = 1856.14891\n",
      "    Bayesian info crit = 1859.20163\n",
      "[[Variables]]\n",
      "    steady_state_rate:  3.9756e+08 +/- 20785480.7 (5.23%) == '10**log_rate'\n",
      "    time_lag:           190851.780 +/- 5523.76162 (2.89%) == '10**log_time_lag'\n",
      "    summation_ub:       10000 (fixed)\n",
      "    time_shift:         0 (fixed)\n",
      "    log_rate:           8.59939969 +/- 0.02270621 (0.26%) (init = 8.060791)\n",
      "    log_time_lag:       5.28069622 +/- 0.01256965 (0.24%) (init = 4.926645)\n",
      "    induction_time:     313938.595 +/- 0.00000000 (0.00%) == 'time_lag*pi**2/6 + time_shift'\n",
      "[[Correlations]] (unreported correlations are < 0.100)\n",
      "    C(log_rate, log_time_lag) =  0.986\n",
      "\n"
     ]
    }
   ],
   "source": [
    "regressor = Kashchiev(table=data_table, summation_ub=10000, use_time_shift=False)\n",
    "\n",
    "gen = regressor.dataGenerator()\n",
    "ID, time, density, table_slice = next(gen)\n",
    "fitresult, model = regressor.fit(time, density)\n",
    "\n",
    "print(fitresult.fit_report())"
   ]
  },
  {
   "cell_type": "code",
   "execution_count": 13,
   "metadata": {},
   "outputs": [
    {
     "data": {
      "text/plain": [
       "<matplotlib.axes._subplots.AxesSubplot at 0x7f8cbb0b13d0>"
      ]
     },
     "execution_count": 13,
     "metadata": {},
     "output_type": "execute_result"
    },
    {
     "data": {
      "image/png": "[encoded data removed]",
      "text/plain": [
       "<Figure size 432x288 with 1 Axes>"
      ]
     },
     "metadata": {
      "needs_background": "light"
     },
     "output_type": "display_data"
    }
   ],
   "source": [
    "fitresult.plot_fit(ylabel='Density', xlabel='Time')"
   ]
  },
  {
   "cell_type": "code",
   "execution_count": 14,
   "metadata": {},
   "outputs": [
    {
     "data": {
      "text/plain": [
       "<matplotlib.axes._subplots.AxesSubplot at 0x7f8cbafaabd0>"
      ]
     },
     "execution_count": 14,
     "metadata": {},
     "output_type": "execute_result"
    },
    {
     "data": {
      "image/png": "[encoded data removed]",
      "text/plain": [
       "<Figure size 432x288 with 1 Axes>"
      ]
     },
     "metadata": {
      "needs_background": "light"
     },
     "output_type": "display_data"
    }
   ],
   "source": [
    "fitresult.plot_residuals()"
   ]
  },
  {
   "cell_type": "markdown",
   "metadata": {},
   "source": [
    "As expected, 100 summation terms are enough. Now let's consider the time-shift and see what happens."
   ]
  },
  {
   "cell_type": "code",
   "execution_count": 15,
   "metadata": {},
   "outputs": [
    {
     "name": "stdout",
     "output_type": "stream",
     "text": [
      "[[Model]]\n",
      "    Model(kashchiev)\n",
      "[[Fit Statistics]]\n",
      "    # fitting method   = leastsq\n",
      "    # function evals   = 4\n",
      "    # data points      = 34\n",
      "    # variables        = 2\n",
      "    chi-square         = 1.5476e+25\n",
      "    reduced chi-square = 4.8362e+23\n",
      "    Akaike info crit   = 1856.14891\n",
      "    Bayesian info crit = 1859.20163\n",
      "[[Variables]]\n",
      "    steady_state_rate:  3.9756e+08 +/- 20785306.6 (5.23%) == '10**log_rate'\n",
      "    time_lag:           190851.697 +/- 5523.77076 (2.89%) == '10**log_time_lag'\n",
      "    summation_ub:       100 (fixed)\n",
      "    time_shift:         0 (fixed)\n",
      "    log_rate:           8.59939935 +/- 0.02270604 (0.26%) (init = 8.599399)\n",
      "    log_time_lag:       5.28069603 +/- 0.01256967 (0.24%) (init = 5.280696)\n",
      "    log_time_shift:    -inf (fixed)\n",
      "    induction_time:     313938.458 +/- 0.00000000 (0.00%) == 'time_lag*pi**2/6 + time_shift'\n",
      "[[Correlations]] (unreported correlations are < 0.100)\n",
      "    C(log_rate, log_time_lag) =  0.986\n",
      "\n"
     ]
    },
    {
     "name": "stderr",
     "output_type": "stream",
     "text": [
      "/data/Science/Venv/py1/lib/python3.7/site-packages/lmfit/model.py:595: UserWarning: unknown parameter hint 'brute_step' for param 'log_time_shift'\n",
      "  warnings.warn(self._invalid_hint % (key, name))\n"
     ]
    }
   ],
   "source": [
    "regressor = Kashchiev(table=data_table, summation_ub=100, use_time_shift=True)\n",
    "\n",
    "gen = regressor.dataGenerator()\n",
    "ID, time, density, table_slice = next(gen)\n",
    "fitresult, model = regressor.fit(time, density)\n",
    "\n",
    "print(fitresult.fit_report())"
   ]
  },
  {
   "cell_type": "markdown",
   "metadata": {},
   "source": [
    "As you can see, the time-shift seems to be still fixed at zero. This happens when the time-shift is too small or if its uncertainty is too high, suggesting that it should not be considered in this regression."
   ]
  }
 ],
 "metadata": {
  "kernelspec": {
   "display_name": "py1",
   "language": "python",
   "name": "py1"
  },
  "language_info": {
   "codemirror_mode": {
    "name": "ipython",
    "version": 3
   },
   "file_extension": ".py",
   "mimetype": "text/x-python",
   "name": "python",
   "nbconvert_exporter": "python",
   "pygments_lexer": "ipython3",
   "version": "3.7.4"
  }
 },
 "nbformat": 4,
 "nbformat_minor": 4
}
